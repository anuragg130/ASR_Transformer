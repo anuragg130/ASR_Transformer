{
 "cells": [
  {
   "cell_type": "code",
   "execution_count": 2,
   "metadata": {},
   "outputs": [],
   "source": [
    "import librosa as lb\n",
    "import numpy as np\n",
    "import pandas as pd\n",
    "import librosa.display\n",
    "import soundfile as sf\n",
    "import matplotlib.pyplot as plt\n",
    "import os"
   ]
  },
  {
   "cell_type": "code",
   "execution_count": 3,
   "metadata": {},
   "outputs": [],
   "source": [
    "import torch\n",
    "import torch.nn as nn"
   ]
  },
  {
   "cell_type": "code",
   "execution_count": 4,
   "metadata": {},
   "outputs": [
    {
     "data": {
      "text/html": [
       "<div>\n",
       "<style scoped>\n",
       "    .dataframe tbody tr th:only-of-type {\n",
       "        vertical-align: middle;\n",
       "    }\n",
       "\n",
       "    .dataframe tbody tr th {\n",
       "        vertical-align: top;\n",
       "    }\n",
       "\n",
       "    .dataframe thead th {\n",
       "        text-align: right;\n",
       "    }\n",
       "</style>\n",
       "<table border=\"1\" class=\"dataframe\">\n",
       "  <thead>\n",
       "    <tr style=\"text-align: right;\">\n",
       "      <th></th>\n",
       "      <th>Book ID\\tNum Text Examples\\tAverage Words Per Example</th>\n",
       "    </tr>\n",
       "  </thead>\n",
       "  <tbody>\n",
       "    <tr>\n",
       "      <th>0</th>\n",
       "      <td>10136\\t38498\\t13.34</td>\n",
       "    </tr>\n",
       "    <tr>\n",
       "      <th>1</th>\n",
       "      <td>1041\\t970\\t17.93</td>\n",
       "    </tr>\n",
       "    <tr>\n",
       "      <th>2</th>\n",
       "      <td>10540\\t3283\\t21.94</td>\n",
       "    </tr>\n",
       "    <tr>\n",
       "      <th>3</th>\n",
       "      <td>108\\t5872\\t18.93</td>\n",
       "    </tr>\n",
       "    <tr>\n",
       "      <th>4</th>\n",
       "      <td>11667\\t3312\\t27.95</td>\n",
       "    </tr>\n",
       "  </tbody>\n",
       "</table>\n",
       "</div>"
      ],
      "text/plain": [
       "  Book ID\\tNum Text Examples\\tAverage Words Per Example\n",
       "0                                10136\\t38498\\t13.34   \n",
       "1                                   1041\\t970\\t17.93   \n",
       "2                                 10540\\t3283\\t21.94   \n",
       "3                                   108\\t5872\\t18.93   \n",
       "4                                 11667\\t3312\\t27.95   "
      ]
     },
     "execution_count": 4,
     "metadata": {},
     "output_type": "execute_result"
    }
   ],
   "source": [
    "csvPath = r\"C:\\Users\\Anurag\\Desktop\\ASR Transformer\\UserLibri\\lm_data\\metadata.tsv\" \n",
    "metadata = pd.read_csv(csvPath)\n",
    "metadata.head()"
   ]
  },
  {
   "cell_type": "code",
   "execution_count": 5,
   "metadata": {},
   "outputs": [
    {
     "data": {
      "text/html": [
       "<div>\n",
       "<style scoped>\n",
       "    .dataframe tbody tr th:only-of-type {\n",
       "        vertical-align: middle;\n",
       "    }\n",
       "\n",
       "    .dataframe tbody tr th {\n",
       "        vertical-align: top;\n",
       "    }\n",
       "\n",
       "    .dataframe thead th {\n",
       "        text-align: right;\n",
       "    }\n",
       "</style>\n",
       "<table border=\"1\" class=\"dataframe\">\n",
       "  <thead>\n",
       "    <tr style=\"text-align: right;\">\n",
       "      <th></th>\n",
       "      <th>Book ID\\tNum Text Examples\\tAverage Words Per Example</th>\n",
       "    </tr>\n",
       "  </thead>\n",
       "  <tbody>\n",
       "    <tr>\n",
       "      <th>94</th>\n",
       "      <td>9464\\t1695\\t23.26</td>\n",
       "    </tr>\n",
       "    <tr>\n",
       "      <th>95</th>\n",
       "      <td>94\\t1722\\t16.02</td>\n",
       "    </tr>\n",
       "    <tr>\n",
       "      <th>96</th>\n",
       "      <td>955\\t3051\\t18.50</td>\n",
       "    </tr>\n",
       "    <tr>\n",
       "      <th>97</th>\n",
       "      <td>969\\t7799\\t21.53</td>\n",
       "    </tr>\n",
       "    <tr>\n",
       "      <th>98</th>\n",
       "      <td>9983\\t8898\\t19.01</td>\n",
       "    </tr>\n",
       "  </tbody>\n",
       "</table>\n",
       "</div>"
      ],
      "text/plain": [
       "   Book ID\\tNum Text Examples\\tAverage Words Per Example\n",
       "94                                  9464\\t1695\\t23.26   \n",
       "95                                    94\\t1722\\t16.02   \n",
       "96                                   955\\t3051\\t18.50   \n",
       "97                                   969\\t7799\\t21.53   \n",
       "98                                  9983\\t8898\\t19.01   "
      ]
     },
     "execution_count": 5,
     "metadata": {},
     "output_type": "execute_result"
    }
   ],
   "source": [
    "metadata.tail()"
   ]
  },
  {
   "cell_type": "code",
   "execution_count": 6,
   "metadata": {},
   "outputs": [],
   "source": [
    "import os\n",
    "import numpy as np\n",
    "import tensorflow as tf\n",
    "from transformers import BertTokenizer"
   ]
  },
  {
   "cell_type": "code",
   "execution_count": 7,
   "metadata": {},
   "outputs": [
    {
     "data": {
      "text/plain": [
       "['10136_lm_train.txt',\n",
       " '1041_lm_train.txt',\n",
       " '10540_lm_train.txt',\n",
       " '108_lm_train.txt',\n",
       " '11667_lm_train.txt',\n",
       " '1184_lm_train.txt',\n",
       " '11_lm_train.txt',\n",
       " '12176_lm_train.txt',\n",
       " '12434_lm_train.txt',\n",
       " '12544_lm_train.txt',\n",
       " '13110_lm_train.txt',\n",
       " '13158_lm_train.txt',\n",
       " '13441_lm_train.txt',\n",
       " '1353_lm_train.txt',\n",
       " '135_lm_train.txt',\n",
       " '1399_lm_train.txt',\n",
       " '14420_lm_train.txt',\n",
       " '14566_lm_train.txt',\n",
       " '1477_lm_train.txt',\n",
       " '14958_lm_train.txt',\n",
       " '15263_lm_train.txt',\n",
       " '15265_lm_train.txt',\n",
       " '1549_lm_train.txt',\n",
       " '1572_lm_train.txt',\n",
       " '1597_lm_train.txt',\n",
       " '1608_lm_train.txt',\n",
       " '16127_lm_train.txt',\n",
       " '16653_lm_train.txt',\n",
       " '18096_lm_train.txt',\n",
       " '1827_lm_train.txt',\n",
       " '19019_lm_train.txt',\n",
       " '19215_lm_train.txt',\n",
       " '19717_lm_train.txt',\n",
       " '1989_lm_train.txt',\n",
       " '1998_lm_train.txt',\n",
       " '20019_lm_train.txt',\n",
       " '2002_lm_train.txt',\n",
       " '20212_lm_train.txt',\n",
       " '209_lm_train.txt',\n",
       " '21297_lm_train.txt',\n",
       " '22002_lm_train.txt',\n",
       " '2300_lm_train.txt',\n",
       " '24585_lm_train.txt',\n",
       " '24811_lm_train.txt',\n",
       " '2488_lm_train.txt',\n",
       " '24_lm_train.txt',\n",
       " '2529_lm_train.txt',\n",
       " '26177_lm_train.txt',\n",
       " '26379_lm_train.txt',\n",
       " '2681_lm_train.txt',\n",
       " '27067_lm_train.txt',\n",
       " '27090_lm_train.txt',\n",
       " '2770_lm_train.txt',\n",
       " '2787_lm_train.txt',\n",
       " '28700_lm_train.txt',\n",
       " '28725_lm_train.txt',\n",
       " '28952_lm_train.txt',\n",
       " '2981_lm_train.txt',\n",
       " '3076_lm_train.txt',\n",
       " '30905_lm_train.txt',\n",
       " '3178_lm_train.txt',\n",
       " '33800_lm_train.txt',\n",
       " '33_lm_train.txt',\n",
       " '3436_lm_train.txt',\n",
       " '3440_lm_train.txt',\n",
       " '3441_lm_train.txt',\n",
       " '36508_lm_train.txt',\n",
       " '3748_lm_train.txt',\n",
       " '38675_lm_train.txt',\n",
       " '38804_lm_train.txt',\n",
       " '39159_lm_train.txt',\n",
       " '4028_lm_train.txt',\n",
       " '40359_lm_train.txt',\n",
       " '41326_lm_train.txt',\n",
       " '4217_lm_train.txt',\n",
       " '4276_lm_train.txt',\n",
       " '434_lm_train.txt',\n",
       " '4602_lm_train.txt',\n",
       " '507_lm_train.txt',\n",
       " '540_lm_train.txt',\n",
       " '5516_lm_train.txt',\n",
       " '5630_lm_train.txt',\n",
       " '574_lm_train.txt',\n",
       " '5921_lm_train.txt',\n",
       " '6328_lm_train.txt',\n",
       " '6812_lm_train.txt',\n",
       " '732_lm_train.txt',\n",
       " '76_lm_train.txt',\n",
       " '7891_lm_train.txt',\n",
       " '8166_lm_train.txt',\n",
       " '820_lm_train.txt',\n",
       " '833_lm_train.txt',\n",
       " '9189_lm_train.txt',\n",
       " '940_lm_train.txt',\n",
       " '9464_lm_train.txt',\n",
       " '94_lm_train.txt',\n",
       " '955_lm_train.txt',\n",
       " '969_lm_train.txt',\n",
       " '9983_lm_train.txt',\n",
       " 'metadata.tsv']"
      ]
     },
     "execution_count": 7,
     "metadata": {},
     "output_type": "execute_result"
    }
   ],
   "source": [
    "folder_path = r\"C:\\Users\\Anurag\\Desktop\\ASR Transformer\\UserLibri\\lm_data\"\n",
    "files = os.listdir(folder_path)\n",
    "files"
   ]
  },
  {
   "cell_type": "code",
   "execution_count": 8,
   "metadata": {},
   "outputs": [],
   "source": [
    "files.remove('metadata.tsv')"
   ]
  },
  {
   "cell_type": "code",
   "execution_count": 9,
   "metadata": {},
   "outputs": [],
   "source": [
    "texts = []\n",
    "for file in files:\n",
    "    \n",
    "    with open(os.path.join(folder_path, file), \"r\", encoding=\"utf-8\") as f:\n",
    "        text = f.read()\n",
    "        texts.append(text)"
   ]
  },
  {
   "cell_type": "code",
   "execution_count": 10,
   "metadata": {},
   "outputs": [
    {
     "name": "stderr",
     "output_type": "stream",
     "text": [
      "Token indices sequence length is longer than the specified maximum sequence length for this model (632729 > 512). Running this sequence through the model will result in indexing errors\n"
     ]
    }
   ],
   "source": [
    "tokenizer = BertTokenizer.from_pretrained('bert-base-uncased')\n",
    "\n",
    "tokenized_texts = [tokenizer.encode(text) for text in texts]\n"
   ]
  },
  {
   "cell_type": "code",
   "execution_count": 11,
   "metadata": {},
   "outputs": [],
   "source": [
    "max_length = 512 # set a maximum length for the input sequence\n",
    "padded_sequences = tf.keras.preprocessing.sequence.pad_sequences(tokenized_texts, maxlen=max_length, dtype='long', padding='post', truncating='post')"
   ]
  },
  {
   "cell_type": "code",
   "execution_count": 12,
   "metadata": {},
   "outputs": [],
   "source": [
    "text_vectors = np.array(padded_sequences)"
   ]
  },
  {
   "cell_type": "code",
   "execution_count": 13,
   "metadata": {},
   "outputs": [],
   "source": [
    "t_texts = torch.from_numpy(text_vectors)"
   ]
  },
  {
   "cell_type": "code",
   "execution_count": 14,
   "metadata": {},
   "outputs": [
    {
     "name": "stdout",
     "output_type": "stream",
     "text": [
      "Stored 't_texts' (Tensor)\n"
     ]
    }
   ],
   "source": [
    "%store t_texts"
   ]
  },
  {
   "cell_type": "code",
   "execution_count": 15,
   "metadata": {},
   "outputs": [
    {
     "data": {
      "text/plain": [
       "tensor([[  101, 19134,  1005,  ...,  2068,  2635,  2729],\n",
       "        [  101,  2065, 15177,  ...,  1998, 10943,  5562],\n",
       "        [  101,  2059,  2027,  ...,  1996, 17517,  8260],\n",
       "        ...,\n",
       "        [  101,  4604,  2008,  ...,  3426,  7093,  1005],\n",
       "        [  101,  2021,  2292,  ...,  1011,  1005,  1055],\n",
       "        [  101,  1045,  2123,  ...,  2402,  2158,  2007]], dtype=torch.int32)"
      ]
     },
     "execution_count": 15,
     "metadata": {},
     "output_type": "execute_result"
    }
   ],
   "source": [
    "t_texts"
   ]
  },
  {
   "cell_type": "code",
   "execution_count": null,
   "metadata": {},
   "outputs": [],
   "source": []
  }
 ],
 "metadata": {
  "kernelspec": {
   "display_name": "Python 3",
   "language": "python",
   "name": "python3"
  },
  "language_info": {
   "codemirror_mode": {
    "name": "ipython",
    "version": 3
   },
   "file_extension": ".py",
   "mimetype": "text/x-python",
   "name": "python",
   "nbconvert_exporter": "python",
   "pygments_lexer": "ipython3",
   "version": "3.10.5"
  },
  "orig_nbformat": 4
 },
 "nbformat": 4,
 "nbformat_minor": 2
}
